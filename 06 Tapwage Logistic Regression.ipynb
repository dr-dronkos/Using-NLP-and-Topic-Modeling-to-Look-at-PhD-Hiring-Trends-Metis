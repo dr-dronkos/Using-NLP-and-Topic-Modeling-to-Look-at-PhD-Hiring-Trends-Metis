{
 "cells": [
  {
   "cell_type": "markdown",
   "id": "cf6ff107",
   "metadata": {},
   "source": [
    "## Import tools"
   ]
  },
  {
   "cell_type": "code",
   "execution_count": 46,
   "id": "087adb1a",
   "metadata": {},
   "outputs": [],
   "source": [
    "import pandas as pd\n",
    "import numpy as np\n",
    "from sklearn.linear_model import LogisticRegression\n",
    "from sklearn.model_selection import train_test_split\n",
    "import matplotlib.pyplot as plt\n",
    "from sklearn.cluster import KMeans\n",
    "import seaborn as sns\n",
    "from sklearn.metrics import confusion_matrix, ConfusionMatrixDisplay\n",
    "from sklearn.model_selection import cross_val_score\n",
    "from sklearn.model_selection import GridSearchCV"
   ]
  },
  {
   "cell_type": "code",
   "execution_count": 3,
   "id": "b3ed92bb",
   "metadata": {},
   "outputs": [],
   "source": [
    "##Unpickle df\n",
    "df = pd.read_pickle('job_titles_plus_topics')"
   ]
  },
  {
   "cell_type": "code",
   "execution_count": 4,
   "id": "d5c408b3",
   "metadata": {},
   "outputs": [
    {
     "data": {
      "text/html": [
       "<div>\n",
       "<style scoped>\n",
       "    .dataframe tbody tr th:only-of-type {\n",
       "        vertical-align: middle;\n",
       "    }\n",
       "\n",
       "    .dataframe tbody tr th {\n",
       "        vertical-align: top;\n",
       "    }\n",
       "\n",
       "    .dataframe thead th {\n",
       "        text-align: right;\n",
       "    }\n",
       "</style>\n",
       "<table border=\"1\" class=\"dataframe\">\n",
       "  <thead>\n",
       "    <tr style=\"text-align: right;\">\n",
       "      <th></th>\n",
       "      <th>title</th>\n",
       "      <th>company</th>\n",
       "      <th>location</th>\n",
       "      <th>uid</th>\n",
       "      <th>tags</th>\n",
       "      <th>degree_or_experience</th>\n",
       "      <th>machine_learning</th>\n",
       "      <th>academic_research</th>\n",
       "      <th>business_or_marketing</th>\n",
       "      <th>application_materials</th>\n",
       "      <th>...</th>\n",
       "      <th>experiments</th>\n",
       "      <th>security_clearance</th>\n",
       "      <th>risk_assessment</th>\n",
       "      <th>benefits</th>\n",
       "      <th>software_engineering</th>\n",
       "      <th>project_management</th>\n",
       "      <th>product_development</th>\n",
       "      <th>engineering</th>\n",
       "      <th>employer_requirements</th>\n",
       "      <th>speech_recognition</th>\n",
       "    </tr>\n",
       "  </thead>\n",
       "  <tbody>\n",
       "    <tr>\n",
       "      <th>0</th>\n",
       "      <td>PhD Program &amp; Lab Manager (Hybrid) job</td>\n",
       "      <td>Mass General Brigham</td>\n",
       "      <td>Charlestown, MA</td>\n",
       "      <td>48022361</td>\n",
       "      <td>[PhD, Masters Degree, Bachelor's Degree, Entry...</td>\n",
       "      <td>0.0</td>\n",
       "      <td>0.00000</td>\n",
       "      <td>0.01878</td>\n",
       "      <td>0.0</td>\n",
       "      <td>0.00000</td>\n",
       "      <td>...</td>\n",
       "      <td>0.00366</td>\n",
       "      <td>0.00957</td>\n",
       "      <td>0.00284</td>\n",
       "      <td>0.00545</td>\n",
       "      <td>0.00078</td>\n",
       "      <td>0.05476</td>\n",
       "      <td>0.00016</td>\n",
       "      <td>0.00032</td>\n",
       "      <td>0.00157</td>\n",
       "      <td>0.00777</td>\n",
       "    </tr>\n",
       "    <tr>\n",
       "      <th>1</th>\n",
       "      <td>PhD Program &amp; Lab Manager (Hybrid) job</td>\n",
       "      <td>Massachusetts General Hospital</td>\n",
       "      <td>Charlestown, MA</td>\n",
       "      <td>47983977</td>\n",
       "      <td>[PhD, Masters Degree, Bachelor's Degree, Entry...</td>\n",
       "      <td>0.0</td>\n",
       "      <td>0.00000</td>\n",
       "      <td>0.01878</td>\n",
       "      <td>0.0</td>\n",
       "      <td>0.00000</td>\n",
       "      <td>...</td>\n",
       "      <td>0.00366</td>\n",
       "      <td>0.00957</td>\n",
       "      <td>0.00284</td>\n",
       "      <td>0.00545</td>\n",
       "      <td>0.00078</td>\n",
       "      <td>0.05476</td>\n",
       "      <td>0.00016</td>\n",
       "      <td>0.00032</td>\n",
       "      <td>0.00157</td>\n",
       "      <td>0.00777</td>\n",
       "    </tr>\n",
       "    <tr>\n",
       "      <th>2</th>\n",
       "      <td>Assistant Professor - Clinical PhD Program - L...</td>\n",
       "      <td>Bertelsmann</td>\n",
       "      <td>Los Angeles, CA</td>\n",
       "      <td>48973936</td>\n",
       "      <td>[PhD, Fortune500, Media, Junior, Full-Time]</td>\n",
       "      <td>0.0</td>\n",
       "      <td>0.00459</td>\n",
       "      <td>0.02206</td>\n",
       "      <td>0.0</td>\n",
       "      <td>0.01601</td>\n",
       "      <td>...</td>\n",
       "      <td>0.00000</td>\n",
       "      <td>0.00000</td>\n",
       "      <td>0.00000</td>\n",
       "      <td>0.02368</td>\n",
       "      <td>0.00000</td>\n",
       "      <td>0.00000</td>\n",
       "      <td>0.00000</td>\n",
       "      <td>0.00000</td>\n",
       "      <td>0.00023</td>\n",
       "      <td>0.00000</td>\n",
       "    </tr>\n",
       "    <tr>\n",
       "      <th>3</th>\n",
       "      <td>Data Scientist / Statistician Intern (BS / MS ...</td>\n",
       "      <td>Lubrizol</td>\n",
       "      <td>Hazelwood, DE</td>\n",
       "      <td>39232138</td>\n",
       "      <td>[PhD, Bachelor's Degree, Data Science, Program...</td>\n",
       "      <td>0.0</td>\n",
       "      <td>0.11196</td>\n",
       "      <td>0.00000</td>\n",
       "      <td>0.0</td>\n",
       "      <td>0.00000</td>\n",
       "      <td>...</td>\n",
       "      <td>0.00000</td>\n",
       "      <td>0.00000</td>\n",
       "      <td>0.00030</td>\n",
       "      <td>0.00000</td>\n",
       "      <td>0.00000</td>\n",
       "      <td>0.02286</td>\n",
       "      <td>0.00000</td>\n",
       "      <td>0.01745</td>\n",
       "      <td>0.00000</td>\n",
       "      <td>0.00000</td>\n",
       "    </tr>\n",
       "    <tr>\n",
       "      <th>4</th>\n",
       "      <td>PhD Scientist Internship job</td>\n",
       "      <td>Danaher Corporation</td>\n",
       "      <td>Madison, WI</td>\n",
       "      <td>49810371</td>\n",
       "      <td>[PhD, Fortune500, Publicly Listed, Conglomerat...</td>\n",
       "      <td>0.0</td>\n",
       "      <td>0.00282</td>\n",
       "      <td>0.00000</td>\n",
       "      <td>0.0</td>\n",
       "      <td>0.00103</td>\n",
       "      <td>...</td>\n",
       "      <td>0.00000</td>\n",
       "      <td>0.01058</td>\n",
       "      <td>0.00000</td>\n",
       "      <td>0.00000</td>\n",
       "      <td>0.00000</td>\n",
       "      <td>0.03010</td>\n",
       "      <td>0.00386</td>\n",
       "      <td>0.00767</td>\n",
       "      <td>0.01534</td>\n",
       "      <td>0.00000</td>\n",
       "    </tr>\n",
       "  </tbody>\n",
       "</table>\n",
       "<p>5 rows × 23 columns</p>\n",
       "</div>"
      ],
      "text/plain": [
       "                                               title  \\\n",
       "0             PhD Program & Lab Manager (Hybrid) job   \n",
       "1             PhD Program & Lab Manager (Hybrid) job   \n",
       "2  Assistant Professor - Clinical PhD Program - L...   \n",
       "3  Data Scientist / Statistician Intern (BS / MS ...   \n",
       "4                       PhD Scientist Internship job   \n",
       "\n",
       "                          company         location        uid  \\\n",
       "0            Mass General Brigham  Charlestown, MA  48022361    \n",
       "1  Massachusetts General Hospital  Charlestown, MA  47983977    \n",
       "2                     Bertelsmann  Los Angeles, CA  48973936    \n",
       "3                        Lubrizol    Hazelwood, DE  39232138    \n",
       "4             Danaher Corporation      Madison, WI  49810371    \n",
       "\n",
       "                                                tags  degree_or_experience  \\\n",
       "0  [PhD, Masters Degree, Bachelor's Degree, Entry...                   0.0   \n",
       "1  [PhD, Masters Degree, Bachelor's Degree, Entry...                   0.0   \n",
       "2        [PhD, Fortune500, Media, Junior, Full-Time]                   0.0   \n",
       "3  [PhD, Bachelor's Degree, Data Science, Program...                   0.0   \n",
       "4  [PhD, Fortune500, Publicly Listed, Conglomerat...                   0.0   \n",
       "\n",
       "   machine_learning  academic_research  business_or_marketing  \\\n",
       "0           0.00000            0.01878                    0.0   \n",
       "1           0.00000            0.01878                    0.0   \n",
       "2           0.00459            0.02206                    0.0   \n",
       "3           0.11196            0.00000                    0.0   \n",
       "4           0.00282            0.00000                    0.0   \n",
       "\n",
       "   application_materials  ...  experiments  security_clearance  \\\n",
       "0                0.00000  ...      0.00366             0.00957   \n",
       "1                0.00000  ...      0.00366             0.00957   \n",
       "2                0.01601  ...      0.00000             0.00000   \n",
       "3                0.00000  ...      0.00000             0.00000   \n",
       "4                0.00103  ...      0.00000             0.01058   \n",
       "\n",
       "   risk_assessment  benefits  software_engineering  project_management  \\\n",
       "0          0.00284   0.00545               0.00078             0.05476   \n",
       "1          0.00284   0.00545               0.00078             0.05476   \n",
       "2          0.00000   0.02368               0.00000             0.00000   \n",
       "3          0.00030   0.00000               0.00000             0.02286   \n",
       "4          0.00000   0.00000               0.00000             0.03010   \n",
       "\n",
       "   product_development  engineering  employer_requirements  speech_recognition  \n",
       "0              0.00016      0.00032                0.00157             0.00777  \n",
       "1              0.00016      0.00032                0.00157             0.00777  \n",
       "2              0.00000      0.00000                0.00023             0.00000  \n",
       "3              0.00000      0.01745                0.00000             0.00000  \n",
       "4              0.00386      0.00767                0.01534             0.00000  \n",
       "\n",
       "[5 rows x 23 columns]"
      ]
     },
     "execution_count": 4,
     "metadata": {},
     "output_type": "execute_result"
    }
   ],
   "source": [
    "df.head()"
   ]
  },
  {
   "cell_type": "code",
   "execution_count": 23,
   "id": "b4a67c62",
   "metadata": {},
   "outputs": [
    {
     "data": {
      "text/plain": [
       "(5179, 24)"
      ]
     },
     "execution_count": 23,
     "metadata": {},
     "output_type": "execute_result"
    }
   ],
   "source": [
    "df.shape"
   ]
  },
  {
   "cell_type": "markdown",
   "id": "7e4c2f38",
   "metadata": {},
   "source": [
    "## Let's see if we can predict whether a job is academic or industry"
   ]
  },
  {
   "cell_type": "code",
   "execution_count": 10,
   "id": "f5390102",
   "metadata": {},
   "outputs": [],
   "source": [
    "df['academic'] = df.company.str.contains('University|College')"
   ]
  },
  {
   "cell_type": "code",
   "execution_count": 11,
   "id": "908b4c00",
   "metadata": {},
   "outputs": [
    {
     "data": {
      "text/html": [
       "<div>\n",
       "<style scoped>\n",
       "    .dataframe tbody tr th:only-of-type {\n",
       "        vertical-align: middle;\n",
       "    }\n",
       "\n",
       "    .dataframe tbody tr th {\n",
       "        vertical-align: top;\n",
       "    }\n",
       "\n",
       "    .dataframe thead th {\n",
       "        text-align: right;\n",
       "    }\n",
       "</style>\n",
       "<table border=\"1\" class=\"dataframe\">\n",
       "  <thead>\n",
       "    <tr style=\"text-align: right;\">\n",
       "      <th></th>\n",
       "      <th>title</th>\n",
       "      <th>company</th>\n",
       "      <th>location</th>\n",
       "      <th>uid</th>\n",
       "      <th>tags</th>\n",
       "      <th>degree_or_experience</th>\n",
       "      <th>machine_learning</th>\n",
       "      <th>academic_research</th>\n",
       "      <th>business_or_marketing</th>\n",
       "      <th>application_materials</th>\n",
       "      <th>...</th>\n",
       "      <th>security_clearance</th>\n",
       "      <th>risk_assessment</th>\n",
       "      <th>benefits</th>\n",
       "      <th>software_engineering</th>\n",
       "      <th>project_management</th>\n",
       "      <th>product_development</th>\n",
       "      <th>engineering</th>\n",
       "      <th>employer_requirements</th>\n",
       "      <th>speech_recognition</th>\n",
       "      <th>academic</th>\n",
       "    </tr>\n",
       "  </thead>\n",
       "  <tbody>\n",
       "    <tr>\n",
       "      <th>0</th>\n",
       "      <td>PhD Program &amp; Lab Manager (Hybrid) job</td>\n",
       "      <td>Mass General Brigham</td>\n",
       "      <td>Charlestown, MA</td>\n",
       "      <td>48022361</td>\n",
       "      <td>[PhD, Masters Degree, Bachelor's Degree, Entry...</td>\n",
       "      <td>0.0</td>\n",
       "      <td>0.00000</td>\n",
       "      <td>0.01878</td>\n",
       "      <td>0.0</td>\n",
       "      <td>0.00000</td>\n",
       "      <td>...</td>\n",
       "      <td>0.00957</td>\n",
       "      <td>0.00284</td>\n",
       "      <td>0.00545</td>\n",
       "      <td>0.00078</td>\n",
       "      <td>0.05476</td>\n",
       "      <td>0.00016</td>\n",
       "      <td>0.00032</td>\n",
       "      <td>0.00157</td>\n",
       "      <td>0.00777</td>\n",
       "      <td>False</td>\n",
       "    </tr>\n",
       "    <tr>\n",
       "      <th>1</th>\n",
       "      <td>PhD Program &amp; Lab Manager (Hybrid) job</td>\n",
       "      <td>Massachusetts General Hospital</td>\n",
       "      <td>Charlestown, MA</td>\n",
       "      <td>47983977</td>\n",
       "      <td>[PhD, Masters Degree, Bachelor's Degree, Entry...</td>\n",
       "      <td>0.0</td>\n",
       "      <td>0.00000</td>\n",
       "      <td>0.01878</td>\n",
       "      <td>0.0</td>\n",
       "      <td>0.00000</td>\n",
       "      <td>...</td>\n",
       "      <td>0.00957</td>\n",
       "      <td>0.00284</td>\n",
       "      <td>0.00545</td>\n",
       "      <td>0.00078</td>\n",
       "      <td>0.05476</td>\n",
       "      <td>0.00016</td>\n",
       "      <td>0.00032</td>\n",
       "      <td>0.00157</td>\n",
       "      <td>0.00777</td>\n",
       "      <td>False</td>\n",
       "    </tr>\n",
       "    <tr>\n",
       "      <th>2</th>\n",
       "      <td>Assistant Professor - Clinical PhD Program - L...</td>\n",
       "      <td>Bertelsmann</td>\n",
       "      <td>Los Angeles, CA</td>\n",
       "      <td>48973936</td>\n",
       "      <td>[PhD, Fortune500, Media, Junior, Full-Time]</td>\n",
       "      <td>0.0</td>\n",
       "      <td>0.00459</td>\n",
       "      <td>0.02206</td>\n",
       "      <td>0.0</td>\n",
       "      <td>0.01601</td>\n",
       "      <td>...</td>\n",
       "      <td>0.00000</td>\n",
       "      <td>0.00000</td>\n",
       "      <td>0.02368</td>\n",
       "      <td>0.00000</td>\n",
       "      <td>0.00000</td>\n",
       "      <td>0.00000</td>\n",
       "      <td>0.00000</td>\n",
       "      <td>0.00023</td>\n",
       "      <td>0.00000</td>\n",
       "      <td>False</td>\n",
       "    </tr>\n",
       "    <tr>\n",
       "      <th>3</th>\n",
       "      <td>Data Scientist / Statistician Intern (BS / MS ...</td>\n",
       "      <td>Lubrizol</td>\n",
       "      <td>Hazelwood, DE</td>\n",
       "      <td>39232138</td>\n",
       "      <td>[PhD, Bachelor's Degree, Data Science, Program...</td>\n",
       "      <td>0.0</td>\n",
       "      <td>0.11196</td>\n",
       "      <td>0.00000</td>\n",
       "      <td>0.0</td>\n",
       "      <td>0.00000</td>\n",
       "      <td>...</td>\n",
       "      <td>0.00000</td>\n",
       "      <td>0.00030</td>\n",
       "      <td>0.00000</td>\n",
       "      <td>0.00000</td>\n",
       "      <td>0.02286</td>\n",
       "      <td>0.00000</td>\n",
       "      <td>0.01745</td>\n",
       "      <td>0.00000</td>\n",
       "      <td>0.00000</td>\n",
       "      <td>False</td>\n",
       "    </tr>\n",
       "    <tr>\n",
       "      <th>4</th>\n",
       "      <td>PhD Scientist Internship job</td>\n",
       "      <td>Danaher Corporation</td>\n",
       "      <td>Madison, WI</td>\n",
       "      <td>49810371</td>\n",
       "      <td>[PhD, Fortune500, Publicly Listed, Conglomerat...</td>\n",
       "      <td>0.0</td>\n",
       "      <td>0.00282</td>\n",
       "      <td>0.00000</td>\n",
       "      <td>0.0</td>\n",
       "      <td>0.00103</td>\n",
       "      <td>...</td>\n",
       "      <td>0.01058</td>\n",
       "      <td>0.00000</td>\n",
       "      <td>0.00000</td>\n",
       "      <td>0.00000</td>\n",
       "      <td>0.03010</td>\n",
       "      <td>0.00386</td>\n",
       "      <td>0.00767</td>\n",
       "      <td>0.01534</td>\n",
       "      <td>0.00000</td>\n",
       "      <td>False</td>\n",
       "    </tr>\n",
       "  </tbody>\n",
       "</table>\n",
       "<p>5 rows × 24 columns</p>\n",
       "</div>"
      ],
      "text/plain": [
       "                                               title  \\\n",
       "0             PhD Program & Lab Manager (Hybrid) job   \n",
       "1             PhD Program & Lab Manager (Hybrid) job   \n",
       "2  Assistant Professor - Clinical PhD Program - L...   \n",
       "3  Data Scientist / Statistician Intern (BS / MS ...   \n",
       "4                       PhD Scientist Internship job   \n",
       "\n",
       "                          company         location        uid  \\\n",
       "0            Mass General Brigham  Charlestown, MA  48022361    \n",
       "1  Massachusetts General Hospital  Charlestown, MA  47983977    \n",
       "2                     Bertelsmann  Los Angeles, CA  48973936    \n",
       "3                        Lubrizol    Hazelwood, DE  39232138    \n",
       "4             Danaher Corporation      Madison, WI  49810371    \n",
       "\n",
       "                                                tags  degree_or_experience  \\\n",
       "0  [PhD, Masters Degree, Bachelor's Degree, Entry...                   0.0   \n",
       "1  [PhD, Masters Degree, Bachelor's Degree, Entry...                   0.0   \n",
       "2        [PhD, Fortune500, Media, Junior, Full-Time]                   0.0   \n",
       "3  [PhD, Bachelor's Degree, Data Science, Program...                   0.0   \n",
       "4  [PhD, Fortune500, Publicly Listed, Conglomerat...                   0.0   \n",
       "\n",
       "   machine_learning  academic_research  business_or_marketing  \\\n",
       "0           0.00000            0.01878                    0.0   \n",
       "1           0.00000            0.01878                    0.0   \n",
       "2           0.00459            0.02206                    0.0   \n",
       "3           0.11196            0.00000                    0.0   \n",
       "4           0.00282            0.00000                    0.0   \n",
       "\n",
       "   application_materials  ...  security_clearance  risk_assessment  benefits  \\\n",
       "0                0.00000  ...             0.00957          0.00284   0.00545   \n",
       "1                0.00000  ...             0.00957          0.00284   0.00545   \n",
       "2                0.01601  ...             0.00000          0.00000   0.02368   \n",
       "3                0.00000  ...             0.00000          0.00030   0.00000   \n",
       "4                0.00103  ...             0.01058          0.00000   0.00000   \n",
       "\n",
       "   software_engineering  project_management  product_development  engineering  \\\n",
       "0               0.00078             0.05476              0.00016      0.00032   \n",
       "1               0.00078             0.05476              0.00016      0.00032   \n",
       "2               0.00000             0.00000              0.00000      0.00000   \n",
       "3               0.00000             0.02286              0.00000      0.01745   \n",
       "4               0.00000             0.03010              0.00386      0.00767   \n",
       "\n",
       "   employer_requirements  speech_recognition  academic  \n",
       "0                0.00157             0.00777     False  \n",
       "1                0.00157             0.00777     False  \n",
       "2                0.00023             0.00000     False  \n",
       "3                0.00000             0.00000     False  \n",
       "4                0.01534             0.00000     False  \n",
       "\n",
       "[5 rows x 24 columns]"
      ]
     },
     "execution_count": 11,
     "metadata": {},
     "output_type": "execute_result"
    }
   ],
   "source": [
    "df.head()"
   ]
  },
  {
   "cell_type": "code",
   "execution_count": 12,
   "id": "64bcc18f",
   "metadata": {},
   "outputs": [
    {
     "data": {
      "text/plain": [
       "(763, 24)"
      ]
     },
     "execution_count": 12,
     "metadata": {},
     "output_type": "execute_result"
    }
   ],
   "source": [
    "df[df.academic == True].shape"
   ]
  },
  {
   "cell_type": "code",
   "execution_count": 13,
   "id": "3408f7f6",
   "metadata": {},
   "outputs": [
    {
     "data": {
      "text/plain": [
       "(4416, 24)"
      ]
     },
     "execution_count": 13,
     "metadata": {},
     "output_type": "execute_result"
    }
   ],
   "source": [
    "df[df.academic == False].shape"
   ]
  },
  {
   "cell_type": "code",
   "execution_count": 15,
   "id": "1710359c",
   "metadata": {},
   "outputs": [
    {
     "data": {
      "text/html": [
       "<div>\n",
       "<style scoped>\n",
       "    .dataframe tbody tr th:only-of-type {\n",
       "        vertical-align: middle;\n",
       "    }\n",
       "\n",
       "    .dataframe tbody tr th {\n",
       "        vertical-align: top;\n",
       "    }\n",
       "\n",
       "    .dataframe thead th {\n",
       "        text-align: right;\n",
       "    }\n",
       "</style>\n",
       "<table border=\"1\" class=\"dataframe\">\n",
       "  <thead>\n",
       "    <tr style=\"text-align: right;\">\n",
       "      <th></th>\n",
       "      <th>title</th>\n",
       "      <th>company</th>\n",
       "      <th>location</th>\n",
       "      <th>uid</th>\n",
       "      <th>tags</th>\n",
       "      <th>degree_or_experience</th>\n",
       "      <th>machine_learning</th>\n",
       "      <th>academic_research</th>\n",
       "      <th>business_or_marketing</th>\n",
       "      <th>application_materials</th>\n",
       "      <th>...</th>\n",
       "      <th>security_clearance</th>\n",
       "      <th>risk_assessment</th>\n",
       "      <th>benefits</th>\n",
       "      <th>software_engineering</th>\n",
       "      <th>project_management</th>\n",
       "      <th>product_development</th>\n",
       "      <th>engineering</th>\n",
       "      <th>employer_requirements</th>\n",
       "      <th>speech_recognition</th>\n",
       "      <th>academic</th>\n",
       "    </tr>\n",
       "  </thead>\n",
       "  <tbody>\n",
       "    <tr>\n",
       "      <th>5162</th>\n",
       "      <td>Instructor Pool - 2022 / 2023 Humanitarian Eng...</td>\n",
       "      <td>Oregon State University</td>\n",
       "      <td>Corvallis, OR</td>\n",
       "      <td>49829687</td>\n",
       "      <td>[PhD, Bachelor's Degree, Mechanical Engineerin...</td>\n",
       "      <td>0.0000</td>\n",
       "      <td>0.00000</td>\n",
       "      <td>0.00000</td>\n",
       "      <td>0.00000</td>\n",
       "      <td>0.02065</td>\n",
       "      <td>...</td>\n",
       "      <td>0.05958</td>\n",
       "      <td>0.0</td>\n",
       "      <td>0.00000</td>\n",
       "      <td>0.00000</td>\n",
       "      <td>0.00000</td>\n",
       "      <td>0.0000</td>\n",
       "      <td>0.01956</td>\n",
       "      <td>0.01471</td>\n",
       "      <td>0.00691</td>\n",
       "      <td>True</td>\n",
       "    </tr>\n",
       "    <tr>\n",
       "      <th>5164</th>\n",
       "      <td>Post-Doctoral Research Associate - Auditory Co...</td>\n",
       "      <td>Carnegie Mellon University</td>\n",
       "      <td>Pittsburgh, PA</td>\n",
       "      <td>49827417</td>\n",
       "      <td>[PhD, Biology, Universities, Junior, Programmi...</td>\n",
       "      <td>0.0023</td>\n",
       "      <td>0.00069</td>\n",
       "      <td>0.04703</td>\n",
       "      <td>0.01027</td>\n",
       "      <td>0.01498</td>\n",
       "      <td>...</td>\n",
       "      <td>0.02117</td>\n",
       "      <td>0.0</td>\n",
       "      <td>0.02040</td>\n",
       "      <td>0.00000</td>\n",
       "      <td>0.01003</td>\n",
       "      <td>0.0000</td>\n",
       "      <td>0.00420</td>\n",
       "      <td>0.01119</td>\n",
       "      <td>0.00399</td>\n",
       "      <td>True</td>\n",
       "    </tr>\n",
       "    <tr>\n",
       "      <th>5167</th>\n",
       "      <td>PostDoctoral Associate - Allen Lab job</td>\n",
       "      <td>University of Virginia</td>\n",
       "      <td>Charlottesville, VA</td>\n",
       "      <td>49823087</td>\n",
       "      <td>[PhD, Universities, Junior, Postdoc, Academic ...</td>\n",
       "      <td>0.0000</td>\n",
       "      <td>0.00000</td>\n",
       "      <td>0.06016</td>\n",
       "      <td>0.00000</td>\n",
       "      <td>0.04647</td>\n",
       "      <td>...</td>\n",
       "      <td>0.00000</td>\n",
       "      <td>0.0</td>\n",
       "      <td>0.00000</td>\n",
       "      <td>0.00000</td>\n",
       "      <td>0.00000</td>\n",
       "      <td>0.0000</td>\n",
       "      <td>0.00000</td>\n",
       "      <td>0.00000</td>\n",
       "      <td>0.00000</td>\n",
       "      <td>True</td>\n",
       "    </tr>\n",
       "    <tr>\n",
       "      <th>5168</th>\n",
       "      <td>Open Rank Professor of Pharmacology, Tenured /...</td>\n",
       "      <td>University of Virginia</td>\n",
       "      <td>Charlottesville, VA</td>\n",
       "      <td>49823020</td>\n",
       "      <td>[PhD, Universities, Junior, Full-Time, MD, Lec...</td>\n",
       "      <td>0.0000</td>\n",
       "      <td>0.00000</td>\n",
       "      <td>0.02628</td>\n",
       "      <td>0.00000</td>\n",
       "      <td>0.09710</td>\n",
       "      <td>...</td>\n",
       "      <td>0.00000</td>\n",
       "      <td>0.0</td>\n",
       "      <td>0.00000</td>\n",
       "      <td>0.00000</td>\n",
       "      <td>0.00000</td>\n",
       "      <td>0.0000</td>\n",
       "      <td>0.00000</td>\n",
       "      <td>0.00000</td>\n",
       "      <td>0.00000</td>\n",
       "      <td>True</td>\n",
       "    </tr>\n",
       "    <tr>\n",
       "      <th>5178</th>\n",
       "      <td>Research Fellow job</td>\n",
       "      <td>University of Michigan</td>\n",
       "      <td>Ann Arbor, MI</td>\n",
       "      <td>49806221</td>\n",
       "      <td>[PhD, Universities, Junior, Postdoc, Academic ...</td>\n",
       "      <td>0.0000</td>\n",
       "      <td>0.00000</td>\n",
       "      <td>0.04179</td>\n",
       "      <td>0.00000</td>\n",
       "      <td>0.00000</td>\n",
       "      <td>...</td>\n",
       "      <td>0.00000</td>\n",
       "      <td>0.0</td>\n",
       "      <td>0.03265</td>\n",
       "      <td>0.00667</td>\n",
       "      <td>0.00000</td>\n",
       "      <td>0.0062</td>\n",
       "      <td>0.00000</td>\n",
       "      <td>0.00000</td>\n",
       "      <td>0.00000</td>\n",
       "      <td>True</td>\n",
       "    </tr>\n",
       "  </tbody>\n",
       "</table>\n",
       "<p>5 rows × 24 columns</p>\n",
       "</div>"
      ],
      "text/plain": [
       "                                                  title  \\\n",
       "5162  Instructor Pool - 2022 / 2023 Humanitarian Eng...   \n",
       "5164  Post-Doctoral Research Associate - Auditory Co...   \n",
       "5167             PostDoctoral Associate - Allen Lab job   \n",
       "5168  Open Rank Professor of Pharmacology, Tenured /...   \n",
       "5178                                Research Fellow job   \n",
       "\n",
       "                         company             location        uid  \\\n",
       "5162     Oregon State University        Corvallis, OR  49829687    \n",
       "5164  Carnegie Mellon University       Pittsburgh, PA  49827417    \n",
       "5167      University of Virginia  Charlottesville, VA  49823087    \n",
       "5168      University of Virginia  Charlottesville, VA  49823020    \n",
       "5178      University of Michigan        Ann Arbor, MI  49806221    \n",
       "\n",
       "                                                   tags  degree_or_experience  \\\n",
       "5162  [PhD, Bachelor's Degree, Mechanical Engineerin...                0.0000   \n",
       "5164  [PhD, Biology, Universities, Junior, Programmi...                0.0023   \n",
       "5167  [PhD, Universities, Junior, Postdoc, Academic ...                0.0000   \n",
       "5168  [PhD, Universities, Junior, Full-Time, MD, Lec...                0.0000   \n",
       "5178  [PhD, Universities, Junior, Postdoc, Academic ...                0.0000   \n",
       "\n",
       "      machine_learning  academic_research  business_or_marketing  \\\n",
       "5162           0.00000            0.00000                0.00000   \n",
       "5164           0.00069            0.04703                0.01027   \n",
       "5167           0.00000            0.06016                0.00000   \n",
       "5168           0.00000            0.02628                0.00000   \n",
       "5178           0.00000            0.04179                0.00000   \n",
       "\n",
       "      application_materials  ...  security_clearance  risk_assessment  \\\n",
       "5162                0.02065  ...             0.05958              0.0   \n",
       "5164                0.01498  ...             0.02117              0.0   \n",
       "5167                0.04647  ...             0.00000              0.0   \n",
       "5168                0.09710  ...             0.00000              0.0   \n",
       "5178                0.00000  ...             0.00000              0.0   \n",
       "\n",
       "      benefits  software_engineering  project_management  product_development  \\\n",
       "5162   0.00000               0.00000             0.00000               0.0000   \n",
       "5164   0.02040               0.00000             0.01003               0.0000   \n",
       "5167   0.00000               0.00000             0.00000               0.0000   \n",
       "5168   0.00000               0.00000             0.00000               0.0000   \n",
       "5178   0.03265               0.00667             0.00000               0.0062   \n",
       "\n",
       "      engineering  employer_requirements  speech_recognition  academic  \n",
       "5162      0.01956                0.01471             0.00691      True  \n",
       "5164      0.00420                0.01119             0.00399      True  \n",
       "5167      0.00000                0.00000             0.00000      True  \n",
       "5168      0.00000                0.00000             0.00000      True  \n",
       "5178      0.00000                0.00000             0.00000      True  \n",
       "\n",
       "[5 rows x 24 columns]"
      ]
     },
     "execution_count": 15,
     "metadata": {},
     "output_type": "execute_result"
    }
   ],
   "source": [
    "df[df.academic == True].tail()"
   ]
  },
  {
   "cell_type": "markdown",
   "id": "21bfd67a",
   "metadata": {},
   "source": [
    "## First Linear Regression model"
   ]
  },
  {
   "cell_type": "code",
   "execution_count": 18,
   "id": "32825c5b",
   "metadata": {},
   "outputs": [],
   "source": [
    "y = df.academic\n",
    "X = df.loc[:,'degree_or_experience':'speech_recognition']"
   ]
  },
  {
   "cell_type": "code",
   "execution_count": 19,
   "id": "b122c64c",
   "metadata": {},
   "outputs": [],
   "source": [
    "## Split into train/test data\n",
    "X_train, X_test, y_train, y_test = train_test_split(X, y, test_size = .2, random_state = 42)"
   ]
  },
  {
   "cell_type": "code",
   "execution_count": 32,
   "id": "9a42e220",
   "metadata": {},
   "outputs": [
    {
     "name": "stdout",
     "output_type": "stream",
     "text": [
      "0.8937967656287714\n",
      "0.8667953667953668\n"
     ]
    }
   ],
   "source": [
    "#logreg = LogisticRegression()\n",
    "## Result for unbalanced = .889\n",
    "\n",
    "## Looks like overfitting, cross validation could help.\n",
    "## Adding balanced parameter did improve precision.\n",
    "logreg = LogisticRegression(class_weight='balanced')\n",
    "logreg.fit(X_train, y_train)\n",
    "print(logreg.score(X_train, y_train))\n",
    "print(logreg.score(X_test, y_test))\n",
    "\n"
   ]
  },
  {
   "cell_type": "code",
   "execution_count": 33,
   "id": "f70bceae",
   "metadata": {},
   "outputs": [
    {
     "name": "stdout",
     "output_type": "stream",
     "text": [
      "0.8526742614404326\n"
     ]
    }
   ],
   "source": [
    "## baseline = guess every job is industry (since 85 percent of jobs are industry)\n",
    "print(4416/5179)"
   ]
  },
  {
   "cell_type": "code",
   "execution_count": 38,
   "id": "90a21e28",
   "metadata": {},
   "outputs": [
    {
     "name": "stdout",
     "output_type": "stream",
     "text": [
      "cross validation scores: [0.89264174 0.88661037 0.90470446 0.88768116 0.90096618]\n",
      "model score: 0.867\n"
     ]
    }
   ],
   "source": [
    "## try with cross-validation\n",
    "## looks like it actually may not be overfitting? \n",
    "## Little variation in between the folds.\n",
    "logreg.fit(X_train, y_train)\n",
    "scores = cross_val_score(logreg, X_train, y_train, cv=5)\n",
    "print(\"cross validation scores:\", scores)\n",
    "print(\"model score: %.3f\" % logreg.score(X_test, y_test))"
   ]
  },
  {
   "cell_type": "code",
   "execution_count": 45,
   "id": "302d617e",
   "metadata": {},
   "outputs": [
    {
     "name": "stdout",
     "output_type": "stream",
     "text": [
      "['degree_or_experience' 'machine_learning' 'academic_research'\n",
      " 'business_or_marketing' 'application_materials' 'bio_or_med_lab'\n",
      " 'data_science' 'teaching' 'experiments' 'security_clearance'\n",
      " 'risk_assessment' 'benefits' 'software_engineering' 'project_management'\n",
      " 'product_development' 'engineering' 'employer_requirements'\n",
      " 'speech_recognition']\n",
      "[[-4.26991981 -6.7487919   7.7831924  -6.26611652 11.71983621  3.36609453\n",
      "  -2.30539456 12.638705   -0.96296184 -5.37046377 -3.04235487  2.77388976\n",
      "  -4.04155115 -5.06880806 -6.27760525 -5.95249786 -3.17416668 -2.96828019]]\n"
     ]
    }
   ],
   "source": [
    "print(logreg.feature_names_in_)\n",
    "print(logreg.coef_)\n",
    "\n",
    "## Biggest predictors = application materials and teaching"
   ]
  },
  {
   "cell_type": "code",
   "execution_count": 49,
   "id": "cd2e9485",
   "metadata": {},
   "outputs": [
    {
     "data": {
      "text/plain": [
       "['degree_or_experience',\n",
       " 'machine_learning',\n",
       " 'academic_research',\n",
       " 'business_or_marketing',\n",
       " 'application_materials',\n",
       " 'bio_or_med_lab',\n",
       " 'data_science',\n",
       " 'teaching',\n",
       " 'experiments',\n",
       " 'security_clearance',\n",
       " 'risk_assessment',\n",
       " 'benefits',\n",
       " 'software_engineering',\n",
       " 'project_management',\n",
       " 'product_development',\n",
       " 'engineering',\n",
       " 'employer_requirements',\n",
       " 'speech_recognition']"
      ]
     },
     "execution_count": 49,
     "metadata": {},
     "output_type": "execute_result"
    }
   ],
   "source": [
    "feature_names = [x for x in logreg.feature_names_in_]\n",
    "feature_names"
   ]
  },
  {
   "cell_type": "code",
   "execution_count": 60,
   "id": "3a0dd2b4",
   "metadata": {},
   "outputs": [
    {
     "data": {
      "text/plain": [
       "array([[-4.26991981],\n",
       "       [-6.7487919 ],\n",
       "       [ 7.7831924 ],\n",
       "       [-6.26611652],\n",
       "       [11.71983621],\n",
       "       [ 3.36609453],\n",
       "       [-2.30539456],\n",
       "       [12.638705  ],\n",
       "       [-0.96296184],\n",
       "       [-5.37046377],\n",
       "       [-3.04235487],\n",
       "       [ 2.77388976],\n",
       "       [-4.04155115],\n",
       "       [-5.06880806],\n",
       "       [-6.27760525],\n",
       "       [-5.95249786],\n",
       "       [-3.17416668],\n",
       "       [-2.96828019]])"
      ]
     },
     "execution_count": 60,
     "metadata": {},
     "output_type": "execute_result"
    }
   ],
   "source": [
    "coeffs = logreg.coef_.reshape(-1,1)\n",
    "coeffs\n"
   ]
  },
  {
   "cell_type": "code",
   "execution_count": 63,
   "id": "2cdbbc6c",
   "metadata": {},
   "outputs": [
    {
     "data": {
      "text/plain": [
       "[<matplotlib.lines.Line2D at 0x1681710a0>]"
      ]
     },
     "execution_count": 63,
     "metadata": {},
     "output_type": "execute_result"
    },
    {
     "data": {
      "image/png": "[encoded data removed]",
      "text/plain": [
       "<Figure size 432x288 with 1 Axes>"
      ]
     },
     "metadata": {
      "needs_background": "light"
     },
     "output_type": "display_data"
    }
   ],
   "source": [
    "plt.plot(feature_names, coeffs)"
   ]
  },
  {
   "cell_type": "markdown",
   "id": "cc2deceb",
   "metadata": {},
   "source": [
    "## Try with GridSearchCV to find optimal C"
   ]
  },
  {
   "cell_type": "code",
   "execution_count": 65,
   "id": "eaa1a88a",
   "metadata": {},
   "outputs": [
    {
     "data": {
      "text/plain": [
       "GridSearchCV(cv=5, estimator=LogisticRegression(), n_jobs=-1,\n",
       "             param_grid={'C': [0.01, 0.1, 1.0, 10.0]})"
      ]
     },
     "execution_count": 65,
     "metadata": {},
     "output_type": "execute_result"
    }
   ],
   "source": [
    "## Try with gridsearch CV\n",
    "hyper_param_grid = {'C': [.01, .1, 1.0, 10.0]}\n",
    "lr = GridSearchCV(LogisticRegression(), hyper_param_grid, cv=5, n_jobs=-1)\n",
    "lr.fit(X_train, y_train)"
   ]
  },
  {
   "cell_type": "code",
   "execution_count": 66,
   "id": "ec221a6c",
   "metadata": {},
   "outputs": [
    {
     "data": {
      "text/plain": [
       "0.9111969111969112"
      ]
     },
     "execution_count": 66,
     "metadata": {},
     "output_type": "execute_result"
    }
   ],
   "source": [
    "lr.best_estimator_.score(X_test, y_test)"
   ]
  },
  {
   "cell_type": "code",
   "execution_count": 68,
   "id": "4c177d7e",
   "metadata": {},
   "outputs": [
    {
     "data": {
      "text/plain": [
       "{'mean_fit_time': array([0.01594315, 0.01740785, 0.02416277, 0.02783904]),\n",
       " 'std_fit_time': array([0.00302044, 0.00197463, 0.00191395, 0.00403291]),\n",
       " 'mean_score_time': array([0.00237961, 0.00252037, 0.00262084, 0.00139451]),\n",
       " 'std_score_time': array([4.50565447e-05, 3.72623982e-04, 1.36762400e-04, 8.14151099e-05]),\n",
       " 'param_C': masked_array(data=[0.01, 0.1, 1.0, 10.0],\n",
       "              mask=[False, False, False, False],\n",
       "        fill_value='?',\n",
       "             dtype=object),\n",
       " 'params': [{'C': 0.01}, {'C': 0.1}, {'C': 1.0}, {'C': 10.0}],\n",
       " 'split0_test_score': array([0.84680338, 0.84680338, 0.87937274, 0.91435464]),\n",
       " 'split1_test_score': array([0.84680338, 0.84680338, 0.87816647, 0.91797346]),\n",
       " 'split2_test_score': array([0.84680338, 0.84680338, 0.8721351 , 0.9119421 ]),\n",
       " 'split3_test_score': array([0.84661836, 0.84661836, 0.87801932, 0.92028986]),\n",
       " 'split4_test_score': array([0.84782609, 0.84782609, 0.87681159, 0.89975845]),\n",
       " 'mean_test_score': array([0.84697092, 0.84697092, 0.87690104, 0.9128637 ]),\n",
       " 'std_test_score': array([0.00043355, 0.00043355, 0.00251727, 0.0071565 ]),\n",
       " 'rank_test_score': array([3, 3, 2, 1], dtype=int32)}"
      ]
     },
     "execution_count": 68,
     "metadata": {},
     "output_type": "execute_result"
    }
   ],
   "source": [
    "lr.cv_results_"
   ]
  },
  {
   "cell_type": "code",
   "execution_count": 72,
   "id": "df83f049",
   "metadata": {},
   "outputs": [
    {
     "data": {
      "text/plain": [
       "['degree_or_experience',\n",
       " 'machine_learning',\n",
       " 'academic_research',\n",
       " 'business_or_marketing',\n",
       " 'application_materials',\n",
       " 'bio_or_med_lab',\n",
       " 'data_science',\n",
       " 'teaching',\n",
       " 'experiments',\n",
       " 'security_clearance',\n",
       " 'risk_assessment',\n",
       " 'benefits',\n",
       " 'software_engineering',\n",
       " 'project_management',\n",
       " 'product_development',\n",
       " 'engineering',\n",
       " 'employer_requirements',\n",
       " 'speech_recognition']"
      ]
     },
     "execution_count": 72,
     "metadata": {},
     "output_type": "execute_result"
    }
   ],
   "source": [
    "lr_feature_names = [x for x in lr.best_estimator_.feature_names_in_]\n",
    "lr_feature_names"
   ]
  },
  {
   "cell_type": "code",
   "execution_count": 74,
   "id": "a6f040d2",
   "metadata": {},
   "outputs": [
    {
     "data": {
      "text/plain": [
       "array([[ -7.60967805],\n",
       "       [-11.9408471 ],\n",
       "       [ 13.9016868 ],\n",
       "       [-12.6771737 ],\n",
       "       [ 22.90117757],\n",
       "       [  3.85486698],\n",
       "       [ -2.91471763],\n",
       "       [ 17.66805142],\n",
       "       [ -3.40834089],\n",
       "       [ -9.12176681],\n",
       "       [ -6.11072053],\n",
       "       [  2.81503042],\n",
       "       [ -7.41868384],\n",
       "       [ -9.59213519],\n",
       "       [-14.58051422],\n",
       "       [-12.17326659],\n",
       "       [ -7.13307603],\n",
       "       [ -5.36131393]])"
      ]
     },
     "execution_count": 74,
     "metadata": {},
     "output_type": "execute_result"
    }
   ],
   "source": [
    "lr_coeffs = lr.best_estimator_.coef_.reshape(-1,1)\n",
    "lr_coeffs"
   ]
  },
  {
   "cell_type": "code",
   "execution_count": 79,
   "id": "854b9700",
   "metadata": {},
   "outputs": [
    {
     "data": {
      "text/plain": [
       "-7.6096780541731786"
      ]
     },
     "execution_count": 79,
     "metadata": {},
     "output_type": "execute_result"
    }
   ],
   "source": [
    "float(lr_coeffs[0])"
   ]
  },
  {
   "cell_type": "code",
   "execution_count": 88,
   "id": "21c7ae3e",
   "metadata": {},
   "outputs": [
    {
     "data": {
      "text/plain": [
       "{'degree_or_experience': -7.6096780541731786,\n",
       " 'machine_learning': -11.940847098940466,\n",
       " 'academic_research': 13.901686802374345,\n",
       " 'business_or_marketing': -12.67717369707461,\n",
       " 'application_materials': 22.90117756700751,\n",
       " 'bio_or_med_lab': 3.8548669789717382,\n",
       " 'data_science': -2.9147176265698147,\n",
       " 'teaching': 17.668051418639983,\n",
       " 'experiments': -3.408340887427955,\n",
       " 'security_clearance': -9.121766810862864,\n",
       " 'risk_assessment': -6.110720534645951,\n",
       " 'benefits': 2.8150304216438222,\n",
       " 'software_engineering': -7.418683837068391,\n",
       " 'project_management': -9.592135191477086,\n",
       " 'product_development': -14.58051422097422,\n",
       " 'engineering': -12.1732665916937,\n",
       " 'employer_requirements': -7.133076025304387,\n",
       " 'speech_recognition': -5.361313927137421}"
      ]
     },
     "execution_count": 88,
     "metadata": {},
     "output_type": "execute_result"
    }
   ],
   "source": [
    "data = {}\n",
    "\n",
    "for i in range(len(lr_feature_names)):\n",
    "    data[lr_feature_names[i]] = float(lr_coeffs[i])\n",
    "data\n",
    "\n",
    "    \n"
   ]
  },
  {
   "cell_type": "code",
   "execution_count": 121,
   "id": "0a85dc71",
   "metadata": {},
   "outputs": [
    {
     "data": {
      "image/png": "[encoded data removed]",
      "text/plain": [
       "<Figure size 432x288 with 1 Axes>"
      ]
     },
     "metadata": {
      "needs_background": "light"
     },
     "output_type": "display_data"
    }
   ],
   "source": [
    "names = list(data.keys())\n",
    "values = list(data.values())\n",
    "\n",
    "plt.barh(range(len(data)), values, tick_label=names, color=('0.7',\n",
    "                                                           'green',\n",
    "                                                           'turquoise',\n",
    "                                                           'green',\n",
    "                                                           'turquoise',\n",
    "                                                           '0.7',\n",
    "                                                           '0.7',\n",
    "                                                           'turquoise',\n",
    "                                                           '0.7',\n",
    "                                                           '0.7',\n",
    "                                                           '0.7',\n",
    "                                                           '0.7',\n",
    "                                                           '0.7',\n",
    "                                                           '0.7',\n",
    "                                                           'green',\n",
    "                                                           'green',\n",
    "                                                           '0.7',\n",
    "                                                           '0.7'))\n",
    "plt.title('Best Predictors for Academic and Industry Job Descriptions')\n",
    "plt.xlabel('Industry Predictors (negative) vs. Academia Predictors (positive)')\n",
    "plt.ylabel('Job Description Topics')\n",
    "plt.savefig('JD_Topic_Regression_Coefficients.png', bbox_inches='tight')\n",
    "plt.show()"
   ]
  },
  {
   "cell_type": "code",
   "execution_count": 35,
   "id": "00ad259c",
   "metadata": {},
   "outputs": [
    {
     "data": {
      "text/plain": [
       "array([[798, 109],\n",
       "       [ 29, 100]])"
      ]
     },
     "execution_count": 35,
     "metadata": {},
     "output_type": "execute_result"
    }
   ],
   "source": [
    "## Confusion Matrix for first logreg\n",
    "y_pred = logreg.predict(X_test)\n",
    "confusion_matrix(y_test, y_pred)"
   ]
  },
  {
   "cell_type": "code",
   "execution_count": 34,
   "id": "55b1b2b3",
   "metadata": {
    "scrolled": true
   },
   "outputs": [
    {
     "data": {
      "image/png": "[encoded data removed]",
      "text/plain": [
       "<Figure size 432x288 with 2 Axes>"
      ]
     },
     "metadata": {
      "needs_background": "light"
     },
     "output_type": "display_data"
    }
   ],
   "source": [
    "## Plot confusion matrix, code adapted from example here: https://scikit-learn.org/stable/modules/generated/sklearn.metrics.plot_confusion_matrix.html\n",
    "predictions = logreg.predict(X_test)\n",
    "cm = confusion_matrix(y_test, predictions, labels=logreg.classes_)\n",
    "disp = ConfusionMatrixDisplay(confusion_matrix=cm, display_labels=logreg.classes_)\n",
    "disp.plot(cmap=plt.cm.Blues)\n",
    "plt.show()"
   ]
  },
  {
   "cell_type": "code",
   "execution_count": null,
   "id": "b38dc4f1",
   "metadata": {},
   "outputs": [],
   "source": []
  },
  {
   "cell_type": "markdown",
   "id": "960aad56",
   "metadata": {},
   "source": []
  },
  {
   "cell_type": "code",
   "execution_count": null,
   "id": "3e1ee41e",
   "metadata": {},
   "outputs": [],
   "source": []
  }
 ],
 "metadata": {
  "kernelspec": {
   "display_name": "Python [conda env:metis] *",
   "language": "python",
   "name": "conda-env-metis-py"
  },
  "language_info": {
   "codemirror_mode": {
    "name": "ipython",
    "version": 3
   },
   "file_extension": ".py",
   "mimetype": "text/x-python",
   "name": "python",
   "nbconvert_exporter": "python",
   "pygments_lexer": "ipython3",
   "version": "3.9.9"
  }
 },
 "nbformat": 4,
 "nbformat_minor": 5
}
